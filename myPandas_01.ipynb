{
  "nbformat": 4,
  "nbformat_minor": 0,
  "metadata": {
    "colab": {
      "provenance": [],
      "authorship_tag": "ABX9TyNt/CRS2RMAWWr5CdFrJy9v",
      "include_colab_link": true
    },
    "kernelspec": {
      "name": "python3",
      "display_name": "Python 3"
    },
    "language_info": {
      "name": "python"
    }
  },
  "cells": [
    {
      "cell_type": "markdown",
      "metadata": {
        "id": "view-in-github",
        "colab_type": "text"
      },
      "source": [
        "<a href=\"https://colab.research.google.com/github/xpython21/pandas_basic_01/blob/main/myPandas_01.ipynb\" target=\"_parent\"><img src=\"https://colab.research.google.com/assets/colab-badge.svg\" alt=\"Open In Colab\"/></a>"
      ]
    },
    {
      "cell_type": "code",
      "source": [
        "from google.colab import drive\n",
        "drive.mount('/content/gdrive/')"
      ],
      "metadata": {
        "id": "ZnTpQwW34vNd",
        "colab": {
          "base_uri": "https://localhost:8080/"
        },
        "outputId": "597c0d3f-37ab-40b6-9128-d52bb7ce1aab"
      },
      "execution_count": 4,
      "outputs": [
        {
          "output_type": "stream",
          "name": "stdout",
          "text": [
            "Mounted at /content/gdrive/\n"
          ]
        }
      ]
    },
    {
      "cell_type": "code",
      "source": [
        "%cd /content/gdrive/MyDrive/Data/Various/"
      ],
      "metadata": {
        "id": "8C4YApOX4z5s",
        "colab": {
          "base_uri": "https://localhost:8080/"
        },
        "outputId": "a40c8f46-f7b0-4f74-b403-82715e17a433"
      },
      "execution_count": 44,
      "outputs": [
        {
          "output_type": "stream",
          "name": "stdout",
          "text": [
            "/content/gdrive/MyDrive/Data/Various\n"
          ]
        }
      ]
    },
    {
      "cell_type": "code",
      "execution_count": 7,
      "metadata": {
        "id": "AwW7ko-43KKc"
      },
      "outputs": [],
      "source": [
        "import pandas as pd\n",
        "import matplotlib.pyplot as plt\n",
        "import seaborn as sns"
      ]
    },
    {
      "cell_type": "code",
      "source": [
        "url = pd.read_csv('urls.csv')['url'][0]\n",
        "\n",
        "names = ['SalesOrderNumber', 'SalesOrderLineItem', 'OrderDate', 'CustomerName', 'EmailAddress', 'Item', 'Quantity', 'UnitPrice', 'TaxAmount']\n",
        "\n",
        "sales = pd.read_csv(url, sep=',', names=names)\n",
        "sales.head()"
      ],
      "metadata": {
        "colab": {
          "base_uri": "https://localhost:8080/",
          "height": 206
        },
        "id": "4vsQAqwAIs2z",
        "outputId": "3990b732-13bf-4601-d2da-a8bda86ba521"
      },
      "execution_count": 101,
      "outputs": [
        {
          "output_type": "execute_result",
          "data": {
            "text/plain": [
              "  SalesOrderNumber  SalesOrderLineItem   OrderDate    CustomerName  \\\n",
              "0          SO43701                   1  2019-07-01     Christy Zhu   \n",
              "1          SO43704                   1  2019-07-01      Julio Ruiz   \n",
              "2          SO43705                   1  2019-07-01       Curtis Lu   \n",
              "3          SO43700                   1  2019-07-01    Ruben Prasad   \n",
              "4          SO43703                   1  2019-07-01  Albert Alvarez   \n",
              "\n",
              "                    EmailAddress                     Item  Quantity  \\\n",
              "0  christy12@adventure-works.com  Mountain-100 Silver, 44         1   \n",
              "1     julio1@adventure-works.com   Mountain-100 Black, 48         1   \n",
              "2    curtis9@adventure-works.com  Mountain-100 Silver, 38         1   \n",
              "3    ruben10@adventure-works.com       Road-650 Black, 62         1   \n",
              "4    albert7@adventure-works.com         Road-150 Red, 62         1   \n",
              "\n",
              "   UnitPrice  TaxAmount  \n",
              "0  3399.9900   271.9992  \n",
              "1  3374.9900   269.9992  \n",
              "2  3399.9900   271.9992  \n",
              "3   699.0982    55.9279  \n",
              "4  3578.2700   286.2616  "
            ],
            "text/html": [
              "\n",
              "  <div id=\"df-916ecf44-5642-4fb5-b7da-563e4eb5567e\">\n",
              "    <div class=\"colab-df-container\">\n",
              "      <div>\n",
              "<style scoped>\n",
              "    .dataframe tbody tr th:only-of-type {\n",
              "        vertical-align: middle;\n",
              "    }\n",
              "\n",
              "    .dataframe tbody tr th {\n",
              "        vertical-align: top;\n",
              "    }\n",
              "\n",
              "    .dataframe thead th {\n",
              "        text-align: right;\n",
              "    }\n",
              "</style>\n",
              "<table border=\"1\" class=\"dataframe\">\n",
              "  <thead>\n",
              "    <tr style=\"text-align: right;\">\n",
              "      <th></th>\n",
              "      <th>SalesOrderNumber</th>\n",
              "      <th>SalesOrderLineItem</th>\n",
              "      <th>OrderDate</th>\n",
              "      <th>CustomerName</th>\n",
              "      <th>EmailAddress</th>\n",
              "      <th>Item</th>\n",
              "      <th>Quantity</th>\n",
              "      <th>UnitPrice</th>\n",
              "      <th>TaxAmount</th>\n",
              "    </tr>\n",
              "  </thead>\n",
              "  <tbody>\n",
              "    <tr>\n",
              "      <th>0</th>\n",
              "      <td>SO43701</td>\n",
              "      <td>1</td>\n",
              "      <td>2019-07-01</td>\n",
              "      <td>Christy Zhu</td>\n",
              "      <td>christy12@adventure-works.com</td>\n",
              "      <td>Mountain-100 Silver, 44</td>\n",
              "      <td>1</td>\n",
              "      <td>3399.9900</td>\n",
              "      <td>271.9992</td>\n",
              "    </tr>\n",
              "    <tr>\n",
              "      <th>1</th>\n",
              "      <td>SO43704</td>\n",
              "      <td>1</td>\n",
              "      <td>2019-07-01</td>\n",
              "      <td>Julio Ruiz</td>\n",
              "      <td>julio1@adventure-works.com</td>\n",
              "      <td>Mountain-100 Black, 48</td>\n",
              "      <td>1</td>\n",
              "      <td>3374.9900</td>\n",
              "      <td>269.9992</td>\n",
              "    </tr>\n",
              "    <tr>\n",
              "      <th>2</th>\n",
              "      <td>SO43705</td>\n",
              "      <td>1</td>\n",
              "      <td>2019-07-01</td>\n",
              "      <td>Curtis Lu</td>\n",
              "      <td>curtis9@adventure-works.com</td>\n",
              "      <td>Mountain-100 Silver, 38</td>\n",
              "      <td>1</td>\n",
              "      <td>3399.9900</td>\n",
              "      <td>271.9992</td>\n",
              "    </tr>\n",
              "    <tr>\n",
              "      <th>3</th>\n",
              "      <td>SO43700</td>\n",
              "      <td>1</td>\n",
              "      <td>2019-07-01</td>\n",
              "      <td>Ruben Prasad</td>\n",
              "      <td>ruben10@adventure-works.com</td>\n",
              "      <td>Road-650 Black, 62</td>\n",
              "      <td>1</td>\n",
              "      <td>699.0982</td>\n",
              "      <td>55.9279</td>\n",
              "    </tr>\n",
              "    <tr>\n",
              "      <th>4</th>\n",
              "      <td>SO43703</td>\n",
              "      <td>1</td>\n",
              "      <td>2019-07-01</td>\n",
              "      <td>Albert Alvarez</td>\n",
              "      <td>albert7@adventure-works.com</td>\n",
              "      <td>Road-150 Red, 62</td>\n",
              "      <td>1</td>\n",
              "      <td>3578.2700</td>\n",
              "      <td>286.2616</td>\n",
              "    </tr>\n",
              "  </tbody>\n",
              "</table>\n",
              "</div>\n",
              "      <button class=\"colab-df-convert\" onclick=\"convertToInteractive('df-916ecf44-5642-4fb5-b7da-563e4eb5567e')\"\n",
              "              title=\"Convert this dataframe to an interactive table.\"\n",
              "              style=\"display:none;\">\n",
              "        \n",
              "  <svg xmlns=\"http://www.w3.org/2000/svg\" height=\"24px\"viewBox=\"0 0 24 24\"\n",
              "       width=\"24px\">\n",
              "    <path d=\"M0 0h24v24H0V0z\" fill=\"none\"/>\n",
              "    <path d=\"M18.56 5.44l.94 2.06.94-2.06 2.06-.94-2.06-.94-.94-2.06-.94 2.06-2.06.94zm-11 1L8.5 8.5l.94-2.06 2.06-.94-2.06-.94L8.5 2.5l-.94 2.06-2.06.94zm10 10l.94 2.06.94-2.06 2.06-.94-2.06-.94-.94-2.06-.94 2.06-2.06.94z\"/><path d=\"M17.41 7.96l-1.37-1.37c-.4-.4-.92-.59-1.43-.59-.52 0-1.04.2-1.43.59L10.3 9.45l-7.72 7.72c-.78.78-.78 2.05 0 2.83L4 21.41c.39.39.9.59 1.41.59.51 0 1.02-.2 1.41-.59l7.78-7.78 2.81-2.81c.8-.78.8-2.07 0-2.86zM5.41 20L4 18.59l7.72-7.72 1.47 1.35L5.41 20z\"/>\n",
              "  </svg>\n",
              "      </button>\n",
              "      \n",
              "  <style>\n",
              "    .colab-df-container {\n",
              "      display:flex;\n",
              "      flex-wrap:wrap;\n",
              "      gap: 12px;\n",
              "    }\n",
              "\n",
              "    .colab-df-convert {\n",
              "      background-color: #E8F0FE;\n",
              "      border: none;\n",
              "      border-radius: 50%;\n",
              "      cursor: pointer;\n",
              "      display: none;\n",
              "      fill: #1967D2;\n",
              "      height: 32px;\n",
              "      padding: 0 0 0 0;\n",
              "      width: 32px;\n",
              "    }\n",
              "\n",
              "    .colab-df-convert:hover {\n",
              "      background-color: #E2EBFA;\n",
              "      box-shadow: 0px 1px 2px rgba(60, 64, 67, 0.3), 0px 1px 3px 1px rgba(60, 64, 67, 0.15);\n",
              "      fill: #174EA6;\n",
              "    }\n",
              "\n",
              "    [theme=dark] .colab-df-convert {\n",
              "      background-color: #3B4455;\n",
              "      fill: #D2E3FC;\n",
              "    }\n",
              "\n",
              "    [theme=dark] .colab-df-convert:hover {\n",
              "      background-color: #434B5C;\n",
              "      box-shadow: 0px 1px 3px 1px rgba(0, 0, 0, 0.15);\n",
              "      filter: drop-shadow(0px 1px 2px rgba(0, 0, 0, 0.3));\n",
              "      fill: #FFFFFF;\n",
              "    }\n",
              "  </style>\n",
              "\n",
              "      <script>\n",
              "        const buttonEl =\n",
              "          document.querySelector('#df-916ecf44-5642-4fb5-b7da-563e4eb5567e button.colab-df-convert');\n",
              "        buttonEl.style.display =\n",
              "          google.colab.kernel.accessAllowed ? 'block' : 'none';\n",
              "\n",
              "        async function convertToInteractive(key) {\n",
              "          const element = document.querySelector('#df-916ecf44-5642-4fb5-b7da-563e4eb5567e');\n",
              "          const dataTable =\n",
              "            await google.colab.kernel.invokeFunction('convertToInteractive',\n",
              "                                                     [key], {});\n",
              "          if (!dataTable) return;\n",
              "\n",
              "          const docLinkHtml = 'Like what you see? Visit the ' +\n",
              "            '<a target=\"_blank\" href=https://colab.research.google.com/notebooks/data_table.ipynb>data table notebook</a>'\n",
              "            + ' to learn more about interactive tables.';\n",
              "          element.innerHTML = '';\n",
              "          dataTable['output_type'] = 'display_data';\n",
              "          await google.colab.output.renderOutput(dataTable, element);\n",
              "          const docLink = document.createElement('div');\n",
              "          docLink.innerHTML = docLinkHtml;\n",
              "          element.appendChild(docLink);\n",
              "        }\n",
              "      </script>\n",
              "    </div>\n",
              "  </div>\n",
              "  "
            ]
          },
          "metadata": {},
          "execution_count": 101
        }
      ]
    },
    {
      "cell_type": "markdown",
      "source": [
        "[git workflow](https://gist.github.com/ernielikesapple/3ebd182612bdcb3c8e1d49f6dc62bb3f)"
      ],
      "metadata": {
        "id": "TbDoR8wr_HDA"
      }
    },
    {
      "cell_type": "code",
      "source": [],
      "metadata": {
        "id": "UH4gQvQiD5k8"
      },
      "execution_count": null,
      "outputs": []
    }
  ]
}